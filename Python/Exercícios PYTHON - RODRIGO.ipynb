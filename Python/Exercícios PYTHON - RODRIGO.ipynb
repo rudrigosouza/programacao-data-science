{
 "cells": [
  {
   "cell_type": "markdown",
   "metadata": {},
   "source": [
    "# Exercícios PYTHON"
   ]
  },
  {
   "cell_type": "markdown",
   "metadata": {},
   "source": [
    "## Exercício 1\n",
    "*Calculando o IMC*\n",
    "\n",
    "O Índice de Massa Corporal (IMC) é uma medida internacional usada para calcular se uma pessoa está em seu peso ideal.\n",
    "O cálculo do IMC é determinado pela divisão da massa do indivíduo em quilogramas pelo quadrado de sua altura em metros.\n",
    "\n",
    "\n",
    "\n",
    "$$IMC=\\frac{massa}{(altura * altura)}$$\n",
    "\n",
    "\n",
    "\n",
    "Escreva um programa que leia do usuário sua altura e peso e calcule seu IMC.\n"
   ]
  },
  {
   "cell_type": "code",
   "execution_count": 1,
   "metadata": {},
   "outputs": [
    {
     "name": "stdout",
     "output_type": "stream",
     "text": [
      "Altura: 1.73\n",
      "  Peso: 70\n",
      "   IMC: 23.39\n"
     ]
    }
   ],
   "source": [
    "# TODO: Complete o Código Abaixo\n",
    "altura = input('Altura: ')\n",
    "peso = input('  Peso: ')\n",
    "altura = float(altura)\n",
    "peso = float(peso)\n",
    " \n",
    "resultado_IMC = peso / (altura * altura)\n",
    "resultado_IMC = float (resultado_IMC)\n",
    "\n",
    "print(\"   IMC: {:.2f}\".format (resultado_IMC))"
   ]
  },
  {
   "cell_type": "markdown",
   "metadata": {},
   "source": [
    "1. O que o código a seguir imprime?\n",
    "\n",
    "```python\n",
    "print(“*\\n**\\n***\\n****\\n*****”)\n",
    "```"
   ]
  },
  {
   "cell_type": "code",
   "execution_count": 2,
   "metadata": {},
   "outputs": [
    {
     "name": "stdout",
     "output_type": "stream",
     "text": [
      "*\n",
      "**\n",
      "***\n",
      "****\n",
      "*****\n"
     ]
    }
   ],
   "source": [
    "# Exercicio 1\n",
    "\n",
    "print('*\\n**\\n***\\n****\\n*****')"
   ]
  },
  {
   "cell_type": "markdown",
   "metadata": {},
   "source": [
    "2. O que aparece na janela do console, quando cada uma das instruções abaixo são executadas, para: x = 2 e y = 3? Execute cada uma das linhas abaixos e, se necessário, faça os devidos ajustes no código.\n",
    "    1. *print(“x = ” + x);*\n",
    "    2. *print(“O valor de x + x é ” + (x + x));*\n",
    "    3. *print(“x = ”);*\n",
    "    4. *print((x + y) + “ = “ + (y + x));*"
   ]
  },
  {
   "cell_type": "code",
   "execution_count": 3,
   "metadata": {},
   "outputs": [
    {
     "name": "stdout",
     "output_type": "stream",
     "text": [
      "x =  2\n",
      "O valor de x + x é  4\n",
      "x = \n",
      "5  =  5\n"
     ]
    }
   ],
   "source": [
    "# Exercicio 2\n",
    "\n",
    "x = 2 \n",
    "y = 3\n",
    "print('x = ' , (x))\n",
    "print('O valor de x + x é ' , (x + x))\n",
    "print('x = ')\n",
    "print((x + y) , ' = ' , (y + x))"
   ]
  },
  {
   "cell_type": "markdown",
   "metadata": {},
   "source": [
    "3. Escreva um programa que leia o nome, o sobrenome e o número de matrícula de um estudante. Em seguida, formate e imprima os dados lidos da seguinte forma: [matrícula] nome sobrenome."
   ]
  },
  {
   "cell_type": "code",
   "execution_count": 5,
   "metadata": {},
   "outputs": [
    {
     "name": "stdout",
     "output_type": "stream",
     "text": [
      "Nome: Rodrigo\n",
      "Sobrenome: Souza\n",
      "Matricula: 123456\n",
      "[ 123456 ] Rodrigo Souza\n"
     ]
    }
   ],
   "source": [
    "# Exercicio 3\n",
    "\n",
    "nome = input('Nome: ')\n",
    "sobrenome = input('Sobrenome: ')\n",
    "matricula = input('Matricula: ')\n",
    "nome = str(nome)\n",
    "sobrenome = str(sobrenome)\n",
    "matricula = int(matricula)\n",
    "\n",
    "print ('[',matricula,']' , nome , sobrenome)"
   ]
  },
  {
   "cell_type": "markdown",
   "metadata": {},
   "source": [
    "4. Escreva um programa que solicite do usuário dois números, e imprima o resultado da soma, subtração, multiplicação e divisão."
   ]
  },
  {
   "cell_type": "code",
   "execution_count": 6,
   "metadata": {},
   "outputs": [
    {
     "name": "stdout",
     "output_type": "stream",
     "text": [
      "Escolha um número: 1\n",
      "Escolha um número: 2\n",
      "A soma dos dois numeros é =  3.0\n",
      "A subtração dos dois numeros é =  -1.0\n",
      "A multiplicação dos dois numeros é = 2.0\n",
      "A divisao dos dois numeros é = 0.5\n"
     ]
    }
   ],
   "source": [
    "# Exercicio 4\n",
    "\n",
    "numero1 = input('Escolha um número: ')\n",
    "numero2 = input('Escolha um número: ')\n",
    "numero1 = float (numero1)\n",
    "numero2 = float (numero2)\n",
    "\n",
    "print ('A soma dos dois numeros é = ' , (numero1 + numero2))\n",
    "print ('A subtração dos dois numeros é = ' , (numero1 - numero2))\n",
    "print ('A multiplicação dos dois numeros é =' , (numero1 * numero2))\n",
    "print ('A divisao dos dois numeros é =' , (numero1 / numero2))"
   ]
  },
  {
   "cell_type": "markdown",
   "metadata": {},
   "source": [
    "5. Escreva um programa que receba como entrada o raio de um círculo e imprima o diâmetro, a circunferência e a área. Para isso, utilize as fórmulas: diâmetro = 2r; circunferência = 2πr, área = πr²."
   ]
  },
  {
   "cell_type": "code",
   "execution_count": 7,
   "metadata": {},
   "outputs": [
    {
     "name": "stdout",
     "output_type": "stream",
     "text": [
      "Qual o raio de um círculo?: 2\n",
      "O diametro do círculo é =  4.0\n",
      "A circunferência  do círculo é =  12.56\n",
      "A área  do círculo é =  12.56\n"
     ]
    }
   ],
   "source": [
    "# Exercicio 5\n",
    "\n",
    "#import math\n",
    "\n",
    "raio = input('Qual o raio de um círculo?: ')\n",
    "# raio = float (imput(\"Raio: \"))\n",
    "\n",
    "raio = float (raio)\n",
    "\n",
    "pi = 3.14\n",
    "# math.pi \n",
    "\n",
    "print ('O diametro do círculo é = ' , (2*raio))\n",
    "\n",
    "print ('A circunferência  do círculo é = ' , (2*pi*raio))\n",
    "\n",
    "print ('A área  do círculo é = ' , pi*(raio**2))"
   ]
  },
  {
   "cell_type": "markdown",
   "metadata": {},
   "source": [
    "6. Escreva um programa que receba como entrada um número de 5 dígitos, separe o número em dígitos individuais e os imprima separados por 3 espaços cada um. Por exemplo, se o usuário digitar 42339, o programa deverá imprimir: 4    2    3    3.   Dica: utilize as operações de divisão e módulo para extrair cada dígito do número."
   ]
  },
  {
   "cell_type": "code",
   "execution_count": 11,
   "metadata": {},
   "outputs": [
    {
     "name": "stdout",
     "output_type": "stream",
     "text": [
      "Digite 5 números: 12345\n",
      "1   2   3   4   5\n"
     ]
    }
   ],
   "source": [
    "# Exercicio 6\n",
    "\n",
    "numero = int(input('Digite 5 números: '))\n",
    "\n",
    "digito5 = float (numero % 10)\n",
    "digito4 = float (numero % 100) / 10\n",
    "digito3 = float (numero % 1000) / 100\n",
    "digito2 = float (numero % 10000) / 1000\n",
    "digito1 = float (numero % 100000) / 10000\n",
    "\n",
    "print ('{:.0f}   {:.0f}   {:.0f}   {:.0f}   {:.0f}'.format(digito1,digito2,digito3,digito4,digito5))"
   ]
  },
  {
   "cell_type": "markdown",
   "metadata": {},
   "source": [
    "## Exercícios\n",
    "\n",
    "1. Escreva um programa que leia dois números inteiros que determine e verifique se o primeiro é um múltiplo do segundo. Por exemplo: se o usuário digitar 15 e 3, o primeiro número será múltiplo do segundo; se o usuário digitar 2 e 4, o primeiro número não será múltiplo do segundo. Dica: use o operador módulo para obter o resto da divisão."
   ]
  },
  {
   "cell_type": "code",
   "execution_count": 13,
   "metadata": {},
   "outputs": [
    {
     "name": "stdout",
     "output_type": "stream",
     "text": [
      "Digite um numero: 15\n",
      "Digite outro numero: 3\n",
      "15 é multiplo 3\n"
     ]
    }
   ],
   "source": [
    "numero1 = int (input('Digite um numero: '))\n",
    "numero2 = int (input ('Digite outro numero: '))\n",
    "\n",
    "multiplo = numero1 % numero2\n",
    "\n",
    "if multiplo == 0:\n",
    "    print('{:.0f} é multiplo {:.0f}'.format(numero1, numero2))\n",
    "else:\n",
    "    print('{:.0f} NÃO é multiplo {:.0f}'.format(numero1, numero2))\n",
    "\n",
    "\n",
    "\n"
   ]
  },
  {
   "cell_type": "markdown",
   "metadata": {},
   "source": [
    "2. Escreva um programa que calcule o quadrado e o cubo dos números de 0 a 10, e imprima os valores em forma de tabela. Número | Quadrado | Cubo"
   ]
  },
  {
   "cell_type": "code",
   "execution_count": 14,
   "metadata": {},
   "outputs": [
    {
     "name": "stdout",
     "output_type": "stream",
     "text": [
      "Numero     | Quadrado    | Cubo\n",
      "0          |0            |0\n",
      "1          |1            |1\n",
      "2          |4            |8\n",
      "3          |9            |27\n",
      "4          |16           |64\n",
      "5          |25           |125\n",
      "6          |36           |216\n",
      "7          |49           |343\n",
      "8          |64           |512\n",
      "9          |81           |729\n",
      "10         |100          |1000\n"
     ]
    }
   ],
   "source": [
    "\n",
    "print ('Numero     | Quadrado    | Cubo')\n",
    "print ('{}          |{}            |{}'.format(0,0**2,0**3))\n",
    "print ('{}          |{}            |{}'.format(1,1**2,1**3))\n",
    "print ('{}          |{}            |{}'.format(2,2**2,2**3))\n",
    "print ('{}          |{}            |{}'.format(3,3**2,3**3))\n",
    "print ('{}          |{}           |{}'.format(4,4**2,4**3))\n",
    "print ('{}          |{}           |{}'.format(5,5**2,5**3))\n",
    "print ('{}          |{}           |{}'.format(6,6**2,6**3))\n",
    "print ('{}          |{}           |{}'.format(7,7**2,7**3))\n",
    "print ('{}          |{}           |{}'.format(8,8**2,8**3))\n",
    "print ('{}          |{}           |{}'.format(9,9**2,9**3))\n",
    "print ('{}         |{}          |{}'.format(10,10**2,10**3))\n"
   ]
  },
  {
   "cell_type": "markdown",
   "metadata": {},
   "source": [
    "3. Escreva um programa que receba dois números inteiros como entrada e verifica qual deles é o maior."
   ]
  },
  {
   "cell_type": "code",
   "execution_count": 15,
   "metadata": {},
   "outputs": [
    {
     "name": "stdout",
     "output_type": "stream",
     "text": [
      "Digite um numero: 2\n",
      "Digite outro numero: 1\n",
      "2 é maior que 1\n"
     ]
    }
   ],
   "source": [
    "numero1 = int (input('Digite um numero: '))\n",
    "numero2 = int (input ('Digite outro numero: '))\n",
    "\n",
    "if (numero1>numero2):\n",
    "    print ('{} é maior que {}'.format(numero1,numero2))\n",
    "elif (numero2>numero1):\n",
    "    print ('{} é maior que {}'.format(numero2,numero1))\n",
    "else:\n",
    "    print ('Os numeros são iguais')\n",
    "\n",
    "\n"
   ]
  },
  {
   "cell_type": "markdown",
   "metadata": {},
   "source": [
    "4. Escreva um programa que leia apenas uma letra do alfabeto como entrada e classifique-a como vogal ou consoante. Seu programa deverá aceitar como entrada apenas um caractere, ou seja, se o usuário digitar dois ou mais caracteres, o sistema deverá informar ao usuário a entrada rejeitada."
   ]
  },
  {
   "cell_type": "code",
   "execution_count": 18,
   "metadata": {},
   "outputs": [
    {
     "name": "stdout",
     "output_type": "stream",
     "text": [
      "Digite UMA letra qualquer: a\n",
      "Vogal\n"
     ]
    }
   ],
   "source": [
    "letra = str(input('Digite UMA letra qualquer: '))\n",
    "\n",
    "##vogais = ('a', 'e', 'i', 'o', 'u')\n",
    "##consoantes = ('b', 'c', 'd', 'f', 'g', 'h', 'i', 'j', 'k', 'l', 'm', 'n', 'p', 'q', 'r', 's', 't', 'v', 'w', 'x', 'y', 'z')\n",
    "\n",
    "if letra == 'a' or letra == 'e' or letra == 'i' or letra == 'o' or letra == 'u' or letra == 'A' or letra == 'E' or letra == 'I' or letra == 'O' or letra == 'U':\n",
    "    print('Vogal')\n",
    "else:\n",
    "    print('Consoante')\n"
   ]
  },
  {
   "cell_type": "markdown",
   "metadata": {},
   "source": [
    "## Exercícios\n",
    "\n",
    "1. Uma empresa quer transmitir dados pelo telefone, mas está preocupada com a interceptação telefônica. Todos os seus dados são transmitidos  como inteiros de quatro dígitos. Ela pediu para que você escreva um programa que criptografe seus dados, para que eles possam ser transmitidos com mais segurança. Seu aplicativo deve ler um inteiro de quatro dígitos fornecidos pelo usuário e criptografá-lo da seguinte forma: substitua cada dígitos por (a soma desse dígitos mais 7) módulo 10. Em seguida, troque o primeiro dígito pelo terceiro e troque o segundo dígito pelo quarto e imprima o inteiro criptografado."
   ]
  },
  {
   "cell_type": "code",
   "execution_count": 19,
   "metadata": {},
   "outputs": [
    {
     "name": "stdout",
     "output_type": "stream",
     "text": [
      "Digite o número: 34445566\n",
      "\n",
      "Numero criptografado: 2312\n"
     ]
    }
   ],
   "source": [
    "numero = int (input('Digite o número: '))\n",
    "\n",
    "numero1 = (int(numero // 10000 + 7) % 10)\n",
    "numero2 = (int (numero // 1000 + 7) % 10)\n",
    "numero3 = (int (numero // 100 + 7 ) % 10)\n",
    "numero4 = (int (numero // 10 + 7) % 10)\n",
    "\n",
    "cripto = str(numero3) + '' + str(numero4) + '' + str(numero1) + '' + str(numero2)\n",
    "\n",
    "\n",
    "print ('\\nNumero criptografado: ' + (cripto))\n"
   ]
  },
  {
   "cell_type": "markdown",
   "metadata": {},
   "source": [
    "2. Implemente a função par que retorna verdadeiro se um número inteiro passado como parâmetro for par ou falso caso ele seja ímpar. Teste seu programa chamando a função para verificar os números de 0 à 10."
   ]
  },
  {
   "cell_type": "code",
   "execution_count": 20,
   "metadata": {},
   "outputs": [
    {
     "name": "stdout",
     "output_type": "stream",
     "text": [
      "True\n",
      "False\n",
      "True\n",
      "False\n",
      "True\n",
      "False\n",
      "True\n",
      "False\n",
      "True\n",
      "False\n",
      "True\n"
     ]
    }
   ],
   "source": [
    "def sePar (numero):\n",
    "    if int (numero) % 2 == 0:\n",
    "        return True;\n",
    "    else:\n",
    "        return False;\n",
    "\n",
    "\n",
    "print(sePar(0))\n",
    "print(sePar(1))\n",
    "print(sePar(2))\n",
    "print(sePar(3))\n",
    "print(sePar(4))\n",
    "print(sePar(5))\n",
    "print(sePar(6))\n",
    "print(sePar(7))\n",
    "print(sePar(8))\n",
    "print(sePar(9))\n",
    "print(sePar(10))"
   ]
  },
  {
   "cell_type": "markdown",
   "metadata": {},
   "source": [
    "3. Escreva um programa que leia 3 números inteiros referente ao comprimento dos lados de um triângulo e classifique como: triângulo equilátero, isósceles ou escaleno."
   ]
  },
  {
   "cell_type": "code",
   "execution_count": 21,
   "metadata": {},
   "outputs": [
    {
     "name": "stdout",
     "output_type": "stream",
     "text": [
      "Digite lado 1 do triangulo: 5\n",
      "Digite lado 2 do triangulo: 5\n",
      "Digite lado 3 do triangulo: 5\n",
      "\n",
      "Triangulo equilatero: Possui os tres lados com medidas iguais\n"
     ]
    }
   ],
   "source": [
    "lado1 = float (input ('Digite lado 1 do triangulo: '))\n",
    "lado2 = float (input ('Digite lado 2 do triangulo: '))\n",
    "lado3 = float (input ('Digite lado 3 do triangulo: '))\n",
    "\n",
    "if lado1 == lado2 == lado3:\n",
    "    print ('\\nTriangulo equilatero: Possui os tres lados com medidas iguais')\n",
    "elif lado1 != lado2 != lado3:\n",
    "    print ('\\nTriangulo escaleno: Possui os tres lados com medidas diferentes')\n",
    "else:\n",
    "    print ('\\nTriangulo isosceles: Possui dois lados com medidas iguais')"
   ]
  },
  {
   "cell_type": "markdown",
   "metadata": {},
   "source": [
    "4. Escreva um programa que aceita um número como entrada e insere hífens (-) entre dois números pares. Por exemplo, se receber o número 02368859 como entrada, a saída do programa deverá ser: 0-236-8-859."
   ]
  },
  {
   "cell_type": "code",
   "execution_count": 22,
   "metadata": {},
   "outputs": [
    {
     "name": "stdout",
     "output_type": "stream",
     "text": [
      "Digite os números: 02368859\n",
      "0-236-8-859\n"
     ]
    }
   ],
   "source": [
    "numero = str(input('Digite os números: '))\n",
    "\n",
    "retorno = ''\n",
    "\n",
    "for n in range(len(str(numero))):\n",
    "    if int(numero[n]) % 2 == 0 and int(numero[n + 1]) % 2 == 0:\n",
    "        retorno = retorno + str(numero[n]) + '-';\n",
    "    else:\n",
    "        retorno = retorno + str(numero[n])\n",
    "\n",
    "print(retorno)"
   ]
  },
  {
   "cell_type": "markdown",
   "metadata": {},
   "source": [
    "5. Escreva um programa que encontre o item mais frequente de um vetor. Exemplo: [2, 7, 7, 7, ‘#’, ‘#’, ‘#’, ‘@’, 3, ‘#’, 6]  // Saída: # aparece 4 vezes"
   ]
  },
  {
   "cell_type": "code",
   "execution_count": 23,
   "metadata": {},
   "outputs": [
    {
     "name": "stdout",
     "output_type": "stream",
     "text": [
      "O item # aparece 4 vezes.\n"
     ]
    }
   ],
   "source": [
    "def verificador (lista):\n",
    "    contador = 0\n",
    "    item = ''\n",
    "    for n in range(len(lista)):\n",
    "        quantidade = 0\n",
    "        for j in range(len(lista)):\n",
    "            if (lista[n] == lista[j]):\n",
    "                quantidade = quantidade + 1;\n",
    "\n",
    "        if (quantidade > contador):\n",
    "            item = str(lista[n])\n",
    "            contador = quantidade;\n",
    "\n",
    "    print(\"O item \" + item + \" aparece \" + str(contador) + \" vezes.\")\n",
    "\n",
    "\n",
    "verificador([2, 7, 7, 7, '#', '#', '#', '@', 3, '#', 6])"
   ]
  },
  {
   "cell_type": "markdown",
   "metadata": {},
   "source": [
    "6. Um número de Armstrong de 3 dígitos é um inteiro pelo qual a soma dos cubos dos seus dígitos é igual ao seu número. Por exemplo: o número inteiro 371 é um número de Armstrong, porque 3³ + 7³ + 1³ = 371. Escreva um programa que verifique se um número de 3 dígitos fornecido como entrada é um número de Armstrong."
   ]
  },
  {
   "cell_type": "code",
   "execution_count": 24,
   "metadata": {},
   "outputs": [
    {
     "name": "stdout",
     "output_type": "stream",
     "text": [
      "Digite o número: 371\n",
      "É um número de Armstrong\n"
     ]
    }
   ],
   "source": [
    "numero = str(input('Digite o número: '))\n",
    "\n",
    "valor = 0\n",
    "\n",
    "for n in range(len(str(numero))):\n",
    "\n",
    "    valor = valor + pow(int(numero[n]),3)\n",
    "\n",
    "if(valor == int(numero)):\n",
    "    print (\"É um número de Armstrong\")\n",
    "\n",
    "else:\n",
    "    print (\"Não é um número de Armstrong\")"
   ]
  },
  {
   "cell_type": "markdown",
   "metadata": {},
   "source": [
    "7. Escreva uma função ue receba uma string e conte o número de vogais dentro dela, por exemplo: entrada: ‘Ciência de Dados’, saída: 7 vogais"
   ]
  },
  {
   "cell_type": "code",
   "execution_count": 26,
   "metadata": {},
   "outputs": [
    {
     "name": "stdout",
     "output_type": "stream",
     "text": [
      "7\n"
     ]
    }
   ],
   "source": [
    "def sevogal (letra):\n",
    "    vogais = ['a', 'e', 'i', 'o', 'u']\n",
    "    return letra.lower() in vogais;\n",
    "\n",
    "def contadorvogais(texto):\n",
    "    contador = 0\n",
    "    for n in range(len(str(texto))):\n",
    "        if sevogal(str(texto[n])):\n",
    "            contador = contador + 1;\n",
    "    return contador;\n",
    "\n",
    "print(contadorvogais(\"Ciencia de Dados\"))"
   ]
  },
  {
   "cell_type": "markdown",
   "metadata": {},
   "source": [
    "8. Implemente em Python o algoritmo de Busca Binária\n"
   ]
  },
  {
   "cell_type": "code",
   "execution_count": 31,
   "metadata": {},
   "outputs": [
    {
     "name": "stdout",
     "output_type": "stream",
     "text": [
      "Item encontrado na posição  2\n"
     ]
    }
   ],
   "source": [
    "def buscaBinaria(lista, pInicial, pFinal, valor): \n",
    "    while pInicial <= pFinal: \n",
    "        media = int(pInicial + (pFinal - pInicial)/2); \n",
    "        if lista[media] == valor: \n",
    "            return media \n",
    "        elif lista[media] < valor: \n",
    "            pInicial = media + 1\n",
    "        else: \n",
    "            pFinal = media - 1\n",
    "    return -1\n",
    "    \n",
    "lista = [2,3,4,10,40]\n",
    "valor = 4\n",
    "resultado = buscaBinaria(lista, 0, len(lista)-1, valor) \n",
    "  \n",
    "if resultado != -1: \n",
    "    print(\"Item encontrado na posição % d\" % resultado)\n",
    "else: \n",
    "    print (\"Item não encontrado na lista\")"
   ]
  },
  {
   "cell_type": "markdown",
   "metadata": {},
   "source": [
    "9. Escreva uma função que receba algum valor como parâmetro e retorne seu tipo"
   ]
  },
  {
   "cell_type": "code",
   "execution_count": 30,
   "metadata": {},
   "outputs": [
    {
     "name": "stdout",
     "output_type": "stream",
     "text": [
      "<class 'str'>\n",
      "<class 'bool'>\n",
      "<class 'int'>\n"
     ]
    }
   ],
   "source": [
    "def verificadorTipo(valor):\n",
    "    return type(valor)\n",
    "\n",
    "print(verificadorTipo(\"Rodrigo\"))\n",
    "print(verificadorTipo(True))\n",
    "print(verificadorTipo(29))\n",
    "\n"
   ]
  },
  {
   "cell_type": "markdown",
   "metadata": {},
   "source": [
    "10. Escreva uma função que receba um lista numérica como parâmetro e retorne os segundos maiores e menores números da sequência, por exemplo: entrada [1, 2, 3, 4, 5, 6, 7, 8, 9], saída [2, 8]."
   ]
  },
  {
   "cell_type": "code",
   "execution_count": 29,
   "metadata": {},
   "outputs": [
    {
     "name": "stdout",
     "output_type": "stream",
     "text": [
      "Maior: 8\n",
      "Menor: 2\n"
     ]
    }
   ],
   "source": [
    "def retornaSegundoMaiorMenor(lista):\n",
    "    maior = max(int(item) for item in lista)\n",
    "    menor = min(int(item) for item in lista)\n",
    "    lista.remove(maior)\n",
    "    lista.remove(menor)\n",
    "    maior = max(int(item) for item in lista)\n",
    "    menor = min(int(item) for item in lista)\n",
    "    print(\"Maior: \" + str(maior))\n",
    "    print(\"Menor: \" + str(menor))\n",
    "    \n",
    "retornaSegundoMaiorMenor([1, 2, 3, 4, 5, 6, 7, 8, 9])"
   ]
  },
  {
   "cell_type": "markdown",
   "metadata": {},
   "source": [
    "12.  Escreva uma função que receba um número inteiro como entrada (px.: 32243) e retorne o número invertido (px.: 34223)."
   ]
  },
  {
   "cell_type": "code",
   "execution_count": 28,
   "metadata": {},
   "outputs": [
    {
     "name": "stdout",
     "output_type": "stream",
     "text": [
      "34223\n"
     ]
    }
   ],
   "source": [
    "def inversor(numero):\n",
    "    tamanho = len(str(numero)) - 1\n",
    "    num = ''\n",
    "    while tamanho >= 0:\n",
    "        num = str(num) + numero[tamanho]\n",
    "        tamanho = tamanho - 1;\n",
    "    return num;  \n",
    "   \n",
    "print(inversor(\"32243\"))"
   ]
  }
 ],
 "metadata": {
  "kernelspec": {
   "display_name": "Python 3",
   "language": "python",
   "name": "python3"
  },
  "language_info": {
   "codemirror_mode": {
    "name": "ipython",
    "version": 3
   },
   "file_extension": ".py",
   "mimetype": "text/x-python",
   "name": "python",
   "nbconvert_exporter": "python",
   "pygments_lexer": "ipython3",
   "version": "3.7.3"
  }
 },
 "nbformat": 4,
 "nbformat_minor": 2
}
